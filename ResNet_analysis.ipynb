{
 "cells": [
  {
   "cell_type": "code",
   "execution_count": 1,
   "id": "5ddc7bbc",
   "metadata": {
    "ExecuteTime": {
     "end_time": "2022-06-24T22:49:49.165531Z",
     "start_time": "2022-06-24T22:49:47.933658Z"
    }
   },
   "outputs": [],
   "source": [
    "import torch\n",
    "from torch import nn\n",
    "from torch.nn import functional as F\n",
    "from d2l import torch as d2l"
   ]
  },
  {
   "cell_type": "code",
   "execution_count": 2,
   "id": "418dde04",
   "metadata": {
    "ExecuteTime": {
     "end_time": "2022-06-24T22:49:49.171006Z",
     "start_time": "2022-06-24T22:49:49.166831Z"
    }
   },
   "outputs": [],
   "source": [
    "class Residual(nn.Module):\n",
    "    def __init__(self, input_channels, num_channels, strides=1):\n",
    "        super().__init__()\n",
    "        self.conv1 = nn.Conv2d(input_channels, num_channels,\n",
    "                               kernel_size=3, padding=1, stride=strides)\n",
    "        self.conv2 = nn.Conv2d(num_channels, num_channels,\n",
    "                               kernel_size=3, padding=1)\n",
    "        \n",
    "        if strides > 1 or input_channels != num_channels: \n",
    "            self.conv3 = nn.Conv2d(input_channels, num_channels,\n",
    "                                   kernel_size=1, stride=strides)\n",
    "        else:\n",
    "            self.conv3 = None\n",
    "        self.bn1 = nn.BatchNorm2d(num_channels)\n",
    "        self.bn2 = nn.BatchNorm2d(num_channels)\n",
    "\n",
    "    def forward(self, X):\n",
    "        Y = F.relu(self.bn1(self.conv1(X)))\n",
    "        Y = self.bn2(self.conv2(Y))\n",
    "        if self.conv3:\n",
    "            X = self.conv3(X)\n",
    "        Y += X\n",
    "        return F.relu(Y)"
   ]
  },
  {
   "cell_type": "code",
   "execution_count": 3,
   "id": "3a43a320",
   "metadata": {
    "ExecuteTime": {
     "end_time": "2022-06-24T22:49:49.180611Z",
     "start_time": "2022-06-24T22:49:49.172420Z"
    }
   },
   "outputs": [],
   "source": [
    "b1 = nn.Sequential(nn.Conv2d(3, 64, kernel_size=7, stride=2, padding=3), nn.BatchNorm2d(64), nn.ReLU(),\n",
    "                   nn.MaxPool2d(kernel_size=3, stride=2, padding=1))"
   ]
  },
  {
   "cell_type": "code",
   "execution_count": 4,
   "id": "3f8ac332",
   "metadata": {
    "ExecuteTime": {
     "end_time": "2022-06-24T22:49:49.184969Z",
     "start_time": "2022-06-24T22:49:49.182060Z"
    }
   },
   "outputs": [],
   "source": [
    "def resnet_block(input_channels, num_channels, num_residuals,\n",
    "                 first_block=False):\n",
    "    blk = []\n",
    "    for i in range(num_residuals):\n",
    "        if i == 0 and not first_block:\n",
    "            blk.append(Residual(input_channels, num_channels, strides=2))\n",
    "        else:\n",
    "            blk.append(Residual(num_channels, num_channels))\n",
    "    return blk"
   ]
  },
  {
   "cell_type": "code",
   "execution_count": 5,
   "id": "6417153d",
   "metadata": {
    "ExecuteTime": {
     "end_time": "2022-06-24T22:49:49.243072Z",
     "start_time": "2022-06-24T22:49:49.186081Z"
    }
   },
   "outputs": [],
   "source": [
    "b2 = nn.Sequential(*resnet_block(64, 64, 2, first_block=True))\n",
    "b3 = nn.Sequential(*resnet_block(64, 128, 2))\n",
    "b4 = nn.Sequential(*resnet_block(128, 256, 2))\n",
    "b5 = nn.Sequential(*resnet_block(256, 512, 2))"
   ]
  },
  {
   "cell_type": "code",
   "execution_count": 6,
   "id": "67ca2bb5",
   "metadata": {
    "ExecuteTime": {
     "end_time": "2022-06-24T22:49:49.248514Z",
     "start_time": "2022-06-24T22:49:49.244064Z"
    }
   },
   "outputs": [],
   "source": [
    "ResNet = nn.Sequential(b1, b2, b3, b4, b5,\n",
    "                    nn.AdaptiveAvgPool2d((1,1)),\n",
    "                    nn.Flatten(), nn.Linear(512, 1000))"
   ]
  },
  {
   "cell_type": "code",
   "execution_count": 8,
   "id": "b783c940",
   "metadata": {
    "ExecuteTime": {
     "end_time": "2022-06-24T22:49:49.290268Z",
     "start_time": "2022-06-24T22:49:49.257786Z"
    },
    "scrolled": true
   },
   "outputs": [
    {
     "name": "stdout",
     "output_type": "stream",
     "text": [
      "Sequential output shape:\t torch.Size([1, 64, 56, 56])\n",
      "Sequential output shape:\t torch.Size([1, 64, 56, 56])\n",
      "Sequential output shape:\t torch.Size([1, 128, 28, 28])\n",
      "Sequential output shape:\t torch.Size([1, 256, 14, 14])\n",
      "Sequential output shape:\t torch.Size([1, 512, 7, 7])\n",
      "AdaptiveAvgPool2d output shape:\t torch.Size([1, 512, 1, 1])\n",
      "Flatten output shape:\t torch.Size([1, 512])\n",
      "Linear output shape:\t torch.Size([1, 1000])\n"
     ]
    }
   ],
   "source": [
    "X = torch.rand(size=(1, 3, 224, 224))\n",
    "for layer in ResNet:\n",
    "    X = layer(X)\n",
    "    print(layer.__class__.__name__,'output shape:\\t', X.shape)"
   ]
  },
  {
   "cell_type": "code",
   "execution_count": 7,
   "id": "61c1b02d",
   "metadata": {
    "ExecuteTime": {
     "end_time": "2022-06-24T22:49:49.256542Z",
     "start_time": "2022-06-24T22:49:49.249628Z"
    }
   },
   "outputs": [
    {
     "name": "stdout",
     "output_type": "stream",
     "text": [
      "11506880 = 11.5 M\n"
     ]
    },
    {
     "data": {
      "text/plain": [
       "[['Conv2d', '3*64*7*7', 9408],\n",
       " ['Residual', '64*64*3*3+64*64*3*3', 73728],\n",
       " ['Residual', '64*64*3*3+64*64*3*3', 73728],\n",
       " ['Residual', '64*128*3*3+128*128*3*3', 221184],\n",
       " ['Residual', '128*128*3*3+128*128*3*3', 294912],\n",
       " ['Residual', '128*256*3*3+256*256*3*3', 884736],\n",
       " ['Residual', '256*256*3*3+256*256*3*3', 1179648],\n",
       " ['Residual', '256*512*3*3+512*512*3*3', 3538944],\n",
       " ['Residual', '512*512*3*3+512*512*3*3', 4718592],\n",
       " ['Linear', '512*1000', 512000]]"
      ]
     },
     "execution_count": 7,
     "metadata": {},
     "output_type": "execute_result"
    }
   ],
   "source": [
    "rec = []\n",
    "def ParamNum(l):\n",
    "    num = 0\n",
    "    if isinstance(l, nn.Sequential):\n",
    "        for l2 in l:\n",
    "            num += ParamNum(l2)\n",
    "    else:\n",
    "        if isinstance(l, Residual):\n",
    "            l_1 = l.conv1\n",
    "            l_2 = l.conv2\n",
    "            num = l_1.in_channels * l_1.out_channels * l_1.kernel_size[0] * l_1.kernel_size[1] + l_2.in_channels * l_2.out_channels * l_2.kernel_size[0] * l_2.kernel_size[1] \n",
    "            expr = f'{l_1.in_channels}*{l_1.out_channels}*{l_1.kernel_size[0]}*{l_1.kernel_size[1]}+{l_2.in_channels}*{l_2.out_channels}*{l_2.kernel_size[0]}*{l_2.kernel_size[1]}'\n",
    "        elif isinstance(l, nn.Conv2d):\n",
    "            num = l.in_channels * l.out_channels * l.kernel_size[0] * l.kernel_size[1]\n",
    "            expr = f'{l.in_channels}*{l.out_channels}*{l.kernel_size[0]}*{l.kernel_size[1]}'\n",
    "        elif isinstance(l, nn.Linear):\n",
    "            num = l.in_features * l.out_features\n",
    "            expr = f'{l.in_features}*{l.out_features}'\n",
    "        if num > 0:\n",
    "            rec.append([l.__class__.__name__, expr, num])\n",
    "    return num\n",
    "\n",
    "num_sum = ParamNum(ResNet)\n",
    "print(f'{num_sum} = {round(num_sum / 1000 / 1000, 1)} M')\n",
    "rec"
   ]
  }
 ],
 "metadata": {
  "kernelspec": {
   "display_name": "Python 3 (ipykernel)",
   "language": "python",
   "name": "python3"
  },
  "language_info": {
   "codemirror_mode": {
    "name": "ipython",
    "version": 3
   },
   "file_extension": ".py",
   "mimetype": "text/x-python",
   "name": "python",
   "nbconvert_exporter": "python",
   "pygments_lexer": "ipython3",
   "version": "3.8.12"
  }
 },
 "nbformat": 4,
 "nbformat_minor": 5
}
