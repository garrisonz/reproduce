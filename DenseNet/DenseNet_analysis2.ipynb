{
 "cells": [
  {
   "cell_type": "code",
   "execution_count": 1,
   "id": "c31f62a3",
   "metadata": {
    "ExecuteTime": {
     "end_time": "2022-06-27T08:55:40.591564Z",
     "start_time": "2022-06-27T08:55:39.407834Z"
    }
   },
   "outputs": [],
   "source": [
    "import torch\n",
    "from torch import nn\n",
    "from d2l import torch as d2l\n",
    "import pandas as pd"
   ]
  },
  {
   "cell_type": "code",
   "execution_count": 2,
   "id": "20b4c003",
   "metadata": {
    "ExecuteTime": {
     "end_time": "2022-06-27T08:55:40.595082Z",
     "start_time": "2022-06-27T08:55:40.592956Z"
    }
   },
   "outputs": [],
   "source": [
    "def conv_block(input_channels, num_channels):\n",
    "    return nn.Sequential(\n",
    "        nn.BatchNorm2d(input_channels), nn.ReLU(),\n",
    "        nn.Conv2d(input_channels, num_channels, kernel_size=3, padding=1))"
   ]
  },
  {
   "cell_type": "code",
   "execution_count": 3,
   "id": "c98dd710",
   "metadata": {
    "ExecuteTime": {
     "end_time": "2022-06-27T08:55:40.602716Z",
     "start_time": "2022-06-27T08:55:40.598367Z"
    }
   },
   "outputs": [],
   "source": [
    "def conv11_block(input_channels, num_channels):\n",
    "    return nn.Sequential(\n",
    "        nn.BatchNorm2d(input_channels), nn.ReLU(),\n",
    "        nn.Conv2d(input_channels, num_channels, kernel_size=1))"
   ]
  },
  {
   "cell_type": "code",
   "execution_count": 4,
   "id": "12fe8e24",
   "metadata": {
    "ExecuteTime": {
     "end_time": "2022-06-27T08:55:40.605781Z",
     "start_time": "2022-06-27T08:55:40.603689Z"
    }
   },
   "outputs": [],
   "source": [
    "def bottlenet_block(input_channels, num_channels):\n",
    "    return nn.Sequential(conv11_block(input_channels, 4*num_channels),\n",
    "            conv_block(4*num_channels, num_channels))"
   ]
  },
  {
   "cell_type": "code",
   "execution_count": 5,
   "id": "6033b59a",
   "metadata": {
    "ExecuteTime": {
     "end_time": "2022-06-27T08:55:40.610068Z",
     "start_time": "2022-06-27T08:55:40.606762Z"
    }
   },
   "outputs": [],
   "source": [
    "class DenseBlock(nn.Module):\n",
    "    def __init__(self, num_convs, input_channels, num_channels):\n",
    "        super(DenseBlock, self).__init__()\n",
    "        layer = []\n",
    "        for i in range(num_convs):\n",
    "            layer.append(bottlenet_block(num_channels * i + input_channels, num_channels))\n",
    "        self.net = nn.Sequential(*layer)\n",
    "\n",
    "    def forward(self, X):\n",
    "        for blk in self.net:\n",
    "            Y = blk(X)\n",
    "            # 连接通道维度上每个块的输入和输出\n",
    "            X = torch.cat((X, Y), dim=1)\n",
    "        return X"
   ]
  },
  {
   "cell_type": "code",
   "execution_count": 6,
   "id": "d845ef96",
   "metadata": {
    "ExecuteTime": {
     "end_time": "2022-06-27T08:55:40.621016Z",
     "start_time": "2022-06-27T08:55:40.611254Z"
    }
   },
   "outputs": [
    {
     "data": {
      "text/plain": [
       "torch.Size([4, 23, 8, 8])"
      ]
     },
     "execution_count": 6,
     "metadata": {},
     "output_type": "execute_result"
    }
   ],
   "source": [
    "blk = DenseBlock(2, 3, 10)\n",
    "X = torch.randn(4, 3, 8, 8)\n",
    "Y = blk(X)\n",
    "Y.shape"
   ]
  },
  {
   "cell_type": "code",
   "execution_count": 7,
   "id": "f4207e7b",
   "metadata": {
    "ExecuteTime": {
     "end_time": "2022-06-27T08:55:40.624364Z",
     "start_time": "2022-06-27T08:55:40.622077Z"
    }
   },
   "outputs": [],
   "source": [
    "def transition_block(input_channels, num_channels):\n",
    "    return nn.Sequential(\n",
    "        nn.BatchNorm2d(input_channels), nn.ReLU(),\n",
    "        nn.Conv2d(input_channels, num_channels, kernel_size=1),\n",
    "        nn.AvgPool2d(kernel_size=2, stride=2))"
   ]
  },
  {
   "cell_type": "code",
   "execution_count": 8,
   "id": "c7aca407",
   "metadata": {
    "ExecuteTime": {
     "end_time": "2022-06-27T08:55:40.628770Z",
     "start_time": "2022-06-27T08:55:40.625713Z"
    }
   },
   "outputs": [],
   "source": [
    "b1 = nn.Sequential(\n",
    "    nn.Conv2d(3, 64, kernel_size=7, stride=2, padding=3),\n",
    "    nn.BatchNorm2d(64), nn.ReLU(),\n",
    "    nn.MaxPool2d(kernel_size=3, stride=2, padding=1))"
   ]
  },
  {
   "cell_type": "code",
   "execution_count": 9,
   "id": "c58ff4d9",
   "metadata": {
    "ExecuteTime": {
     "end_time": "2022-06-27T08:55:40.687932Z",
     "start_time": "2022-06-27T08:55:40.631726Z"
    }
   },
   "outputs": [],
   "source": [
    "num_channels, growth_rate = 64, 32\n",
    "num_convs_in_dense_blocks = [6, 12, 24, 16]\n",
    "\n",
    "blks = []\n",
    "for i, num_convs in enumerate(num_convs_in_dense_blocks):\n",
    "    blks.append(DenseBlock(num_convs, num_channels, growth_rate))\n",
    "    num_channels += num_convs * growth_rate\n",
    "    if i != len(num_convs_in_dense_blocks) - 1:\n",
    "        blks.append(transition_block(num_channels, num_channels // 2))\n",
    "        num_channels = num_channels // 2"
   ]
  },
  {
   "cell_type": "code",
   "execution_count": 10,
   "id": "1a591592",
   "metadata": {
    "ExecuteTime": {
     "end_time": "2022-06-27T08:55:40.697365Z",
     "start_time": "2022-06-27T08:55:40.688922Z"
    }
   },
   "outputs": [],
   "source": [
    "net = nn.Sequential(\n",
    "    b1, *blks,\n",
    "    nn.BatchNorm2d(num_channels), nn.ReLU(),\n",
    "    nn.AdaptiveAvgPool2d((1, 1)),\n",
    "    nn.Flatten(),\n",
    "    nn.Linear(num_channels, 1000))"
   ]
  },
  {
   "cell_type": "code",
   "execution_count": 11,
   "id": "9d9cba85",
   "metadata": {
    "ExecuteTime": {
     "end_time": "2022-06-27T08:55:40.804269Z",
     "start_time": "2022-06-27T08:55:40.698384Z"
    }
   },
   "outputs": [
    {
     "name": "stdout",
     "output_type": "stream",
     "text": [
      "Sequential torch.Size([1, 64, 56, 56])\n",
      "DenseBlock torch.Size([1, 256, 56, 56])\n",
      "Sequential torch.Size([1, 128, 28, 28])\n",
      "DenseBlock torch.Size([1, 512, 28, 28])\n",
      "Sequential torch.Size([1, 256, 14, 14])\n",
      "DenseBlock torch.Size([1, 1024, 14, 14])\n",
      "Sequential torch.Size([1, 512, 7, 7])\n",
      "DenseBlock torch.Size([1, 1024, 7, 7])\n",
      "BatchNorm2d torch.Size([1, 1024, 7, 7])\n",
      "ReLU torch.Size([1, 1024, 7, 7])\n",
      "AdaptiveAvgPool2d torch.Size([1, 1024, 1, 1])\n",
      "Flatten torch.Size([1, 1024])\n",
      "Linear torch.Size([1, 1000])\n"
     ]
    }
   ],
   "source": [
    "X = torch.randn(1, 3, 224, 224)\n",
    "for l in net:\n",
    "    X = l(X)\n",
    "    print(l.__class__.__name__, X.shape)"
   ]
  },
  {
   "cell_type": "code",
   "execution_count": 12,
   "id": "2accb83b",
   "metadata": {
    "ExecuteTime": {
     "end_time": "2022-06-27T08:55:40.817287Z",
     "start_time": "2022-06-27T08:55:40.805563Z"
    }
   },
   "outputs": [
    {
     "name": "stdout",
     "output_type": "stream",
     "text": [
      "7894208 = 7.9M\n"
     ]
    },
    {
     "data": {
      "text/html": [
       "<div>\n",
       "<style scoped>\n",
       "    .dataframe tbody tr th:only-of-type {\n",
       "        vertical-align: middle;\n",
       "    }\n",
       "\n",
       "    .dataframe tbody tr th {\n",
       "        vertical-align: top;\n",
       "    }\n",
       "\n",
       "    .dataframe thead th {\n",
       "        text-align: right;\n",
       "    }\n",
       "</style>\n",
       "<table border=\"1\" class=\"dataframe\">\n",
       "  <thead>\n",
       "    <tr style=\"text-align: right;\">\n",
       "      <th></th>\n",
       "      <th>0</th>\n",
       "      <th>1</th>\n",
       "      <th>2</th>\n",
       "    </tr>\n",
       "  </thead>\n",
       "  <tbody>\n",
       "    <tr>\n",
       "      <th>0</th>\n",
       "      <td>Conv2d</td>\n",
       "      <td>3*64*7*7</td>\n",
       "      <td>9408</td>\n",
       "    </tr>\n",
       "    <tr>\n",
       "      <th>1</th>\n",
       "      <td>Conv2d</td>\n",
       "      <td>64*128*1*1</td>\n",
       "      <td>8192</td>\n",
       "    </tr>\n",
       "    <tr>\n",
       "      <th>2</th>\n",
       "      <td>Conv2d</td>\n",
       "      <td>128*32*3*3</td>\n",
       "      <td>36864</td>\n",
       "    </tr>\n",
       "    <tr>\n",
       "      <th>3</th>\n",
       "      <td>Conv2d</td>\n",
       "      <td>96*128*1*1</td>\n",
       "      <td>12288</td>\n",
       "    </tr>\n",
       "    <tr>\n",
       "      <th>4</th>\n",
       "      <td>Conv2d</td>\n",
       "      <td>128*32*3*3</td>\n",
       "      <td>36864</td>\n",
       "    </tr>\n",
       "    <tr>\n",
       "      <th>...</th>\n",
       "      <td>...</td>\n",
       "      <td>...</td>\n",
       "      <td>...</td>\n",
       "    </tr>\n",
       "    <tr>\n",
       "      <th>116</th>\n",
       "      <td>Conv2d</td>\n",
       "      <td>960*128*1*1</td>\n",
       "      <td>122880</td>\n",
       "    </tr>\n",
       "    <tr>\n",
       "      <th>117</th>\n",
       "      <td>Conv2d</td>\n",
       "      <td>128*32*3*3</td>\n",
       "      <td>36864</td>\n",
       "    </tr>\n",
       "    <tr>\n",
       "      <th>118</th>\n",
       "      <td>Conv2d</td>\n",
       "      <td>992*128*1*1</td>\n",
       "      <td>126976</td>\n",
       "    </tr>\n",
       "    <tr>\n",
       "      <th>119</th>\n",
       "      <td>Conv2d</td>\n",
       "      <td>128*32*3*3</td>\n",
       "      <td>36864</td>\n",
       "    </tr>\n",
       "    <tr>\n",
       "      <th>120</th>\n",
       "      <td>Linear</td>\n",
       "      <td>1024*1000</td>\n",
       "      <td>1024000</td>\n",
       "    </tr>\n",
       "  </tbody>\n",
       "</table>\n",
       "<p>121 rows × 3 columns</p>\n",
       "</div>"
      ],
      "text/plain": [
       "          0            1        2\n",
       "0    Conv2d     3*64*7*7     9408\n",
       "1    Conv2d   64*128*1*1     8192\n",
       "2    Conv2d   128*32*3*3    36864\n",
       "3    Conv2d   96*128*1*1    12288\n",
       "4    Conv2d   128*32*3*3    36864\n",
       "..      ...          ...      ...\n",
       "116  Conv2d  960*128*1*1   122880\n",
       "117  Conv2d   128*32*3*3    36864\n",
       "118  Conv2d  992*128*1*1   126976\n",
       "119  Conv2d   128*32*3*3    36864\n",
       "120  Linear    1024*1000  1024000\n",
       "\n",
       "[121 rows x 3 columns]"
      ]
     },
     "execution_count": 12,
     "metadata": {},
     "output_type": "execute_result"
    }
   ],
   "source": [
    "rec = []\n",
    "def ParamNum(l):\n",
    "    num = 0\n",
    "    expr = ''\n",
    "    if isinstance(l, nn.Sequential):\n",
    "        for l2 in l:\n",
    "            num += ParamNum(l2)\n",
    "    elif isinstance(l, DenseBlock):\n",
    "        num = ParamNum(l.net)\n",
    "    elif isinstance(l, nn.Conv2d):\n",
    "        num = l.in_channels * l.out_channels * l.kernel_size[0] * l.kernel_size[1]\n",
    "        expr = f'{l.in_channels}*{l.out_channels}*{l.kernel_size[0]}*{l.kernel_size[1]}'\n",
    "    elif isinstance(l, nn.Linear):\n",
    "        num = l.in_features * l.out_features\n",
    "        expr = f'{l.in_features}*{l.out_features}'\n",
    "        \n",
    "    if expr != '':\n",
    "        rec.append([l.__class__.__name__, expr, num])\n",
    "    return num\n",
    "sum_num = ParamNum(net)\n",
    "print(f'{sum_num} = {round(sum_num / 1000 / 1000, 1)}M')\n",
    "pd.DataFrame(rec)"
   ]
  }
 ],
 "metadata": {
  "kernelspec": {
   "display_name": "Python 3 (ipykernel)",
   "language": "python",
   "name": "python3"
  },
  "language_info": {
   "codemirror_mode": {
    "name": "ipython",
    "version": 3
   },
   "file_extension": ".py",
   "mimetype": "text/x-python",
   "name": "python",
   "nbconvert_exporter": "python",
   "pygments_lexer": "ipython3",
   "version": "3.8.12"
  }
 },
 "nbformat": 4,
 "nbformat_minor": 5
}
