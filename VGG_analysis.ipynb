{
 "cells": [
  {
   "cell_type": "code",
   "execution_count": 2,
   "id": "f492134f",
   "metadata": {
    "ExecuteTime": {
     "end_time": "2022-06-23T07:28:58.610294Z",
     "start_time": "2022-06-23T07:28:57.348451Z"
    }
   },
   "outputs": [],
   "source": [
    "import torch\n",
    "from torch import nn\n",
    "from d2l import torch as d2l\n",
    "import pandas as pd"
   ]
  },
  {
   "cell_type": "code",
   "execution_count": 3,
   "id": "0c744819",
   "metadata": {
    "ExecuteTime": {
     "end_time": "2022-06-23T07:28:58.614534Z",
     "start_time": "2022-06-23T07:28:58.611635Z"
    }
   },
   "outputs": [],
   "source": [
    "def vgg_block(num_convs, in_channels, out_channels):\n",
    "    layers = []\n",
    "    for _ in range(num_convs):\n",
    "        layers.append(nn.Conv2d(in_channels, out_channels,\n",
    "                                kernel_size=3, padding=1))\n",
    "        layers.append(nn.ReLU())\n",
    "        in_channels = out_channels\n",
    "    layers.append(nn.MaxPool2d(kernel_size=2,stride=2))\n",
    "    return nn.Sequential(*layers)"
   ]
  },
  {
   "cell_type": "code",
   "execution_count": 4,
   "id": "62b4c914",
   "metadata": {
    "ExecuteTime": {
     "end_time": "2022-06-23T07:28:59.406843Z",
     "start_time": "2022-06-23T07:28:59.402191Z"
    }
   },
   "outputs": [],
   "source": [
    "conv_arch = ((1, 64), (1, 128), (2, 256), (2, 512), (2, 512))"
   ]
  },
  {
   "cell_type": "code",
   "execution_count": 10,
   "id": "3e62c3bc",
   "metadata": {
    "ExecuteTime": {
     "end_time": "2022-06-23T07:30:25.158595Z",
     "start_time": "2022-06-23T07:30:24.542949Z"
    }
   },
   "outputs": [],
   "source": [
    "def vgg(conv_arch):\n",
    "    conv_blks = []\n",
    "    in_channels = 3\n",
    "    for (num_convs, out_channels) in conv_arch:\n",
    "        conv_blks.append(vgg_block(num_convs, in_channels, out_channels))\n",
    "        in_channels = out_channels\n",
    "\n",
    "    return nn.Sequential(\n",
    "        *conv_blks, nn.Flatten(),\n",
    "        nn.Linear(out_channels * 7 * 7, 4096), nn.ReLU(), nn.Dropout(0.5),\n",
    "        nn.Linear(4096, 4096), nn.ReLU(), nn.Dropout(0.5),\n",
    "        nn.Linear(4096, 1000))\n",
    "\n",
    "VGGNet = vgg(conv_arch)"
   ]
  },
  {
   "cell_type": "code",
   "execution_count": 11,
   "id": "0eacbbac",
   "metadata": {
    "ExecuteTime": {
     "end_time": "2022-06-23T07:30:26.142953Z",
     "start_time": "2022-06-23T07:30:26.011578Z"
    }
   },
   "outputs": [
    {
     "name": "stdout",
     "output_type": "stream",
     "text": [
      "Sequential output shape:\t torch.Size([1, 64, 112, 112])\n",
      "Sequential output shape:\t torch.Size([1, 128, 56, 56])\n",
      "Sequential output shape:\t torch.Size([1, 256, 28, 28])\n",
      "Sequential output shape:\t torch.Size([1, 512, 14, 14])\n",
      "Sequential output shape:\t torch.Size([1, 512, 7, 7])\n",
      "Flatten output shape:\t torch.Size([1, 25088])\n",
      "Linear output shape:\t torch.Size([1, 4096])\n",
      "ReLU output shape:\t torch.Size([1, 4096])\n",
      "Dropout output shape:\t torch.Size([1, 4096])\n",
      "Linear output shape:\t torch.Size([1, 4096])\n",
      "ReLU output shape:\t torch.Size([1, 4096])\n",
      "Dropout output shape:\t torch.Size([1, 4096])\n",
      "Linear output shape:\t torch.Size([1, 1000])\n"
     ]
    }
   ],
   "source": [
    "X = torch.randn(size=(1, 3, 224, 224))\n",
    "for blk in VGGNet:\n",
    "    X = blk(X)\n",
    "    print(blk.__class__.__name__,'output shape:\\t',X.shape)"
   ]
  },
  {
   "cell_type": "code",
   "execution_count": 12,
   "id": "8248852f",
   "metadata": {
    "ExecuteTime": {
     "end_time": "2022-06-23T07:30:28.355078Z",
     "start_time": "2022-06-23T07:30:28.341207Z"
    }
   },
   "outputs": [
    {
     "name": "stdout",
     "output_type": "stream",
     "text": [
      "132851392 = 132.9M\n"
     ]
    },
    {
     "data": {
      "text/html": [
       "<div>\n",
       "<style scoped>\n",
       "    .dataframe tbody tr th:only-of-type {\n",
       "        vertical-align: middle;\n",
       "    }\n",
       "\n",
       "    .dataframe tbody tr th {\n",
       "        vertical-align: top;\n",
       "    }\n",
       "\n",
       "    .dataframe thead th {\n",
       "        text-align: right;\n",
       "    }\n",
       "</style>\n",
       "<table border=\"1\" class=\"dataframe\">\n",
       "  <thead>\n",
       "    <tr style=\"text-align: right;\">\n",
       "      <th></th>\n",
       "      <th>name</th>\n",
       "      <th>parameter nums</th>\n",
       "    </tr>\n",
       "  </thead>\n",
       "  <tbody>\n",
       "    <tr>\n",
       "      <th>0</th>\n",
       "      <td>Conv2d</td>\n",
       "      <td>1728</td>\n",
       "    </tr>\n",
       "    <tr>\n",
       "      <th>1</th>\n",
       "      <td>Conv2d</td>\n",
       "      <td>73728</td>\n",
       "    </tr>\n",
       "    <tr>\n",
       "      <th>2</th>\n",
       "      <td>Conv2d</td>\n",
       "      <td>294912</td>\n",
       "    </tr>\n",
       "    <tr>\n",
       "      <th>3</th>\n",
       "      <td>Conv2d</td>\n",
       "      <td>589824</td>\n",
       "    </tr>\n",
       "    <tr>\n",
       "      <th>4</th>\n",
       "      <td>Conv2d</td>\n",
       "      <td>1179648</td>\n",
       "    </tr>\n",
       "    <tr>\n",
       "      <th>5</th>\n",
       "      <td>Conv2d</td>\n",
       "      <td>2359296</td>\n",
       "    </tr>\n",
       "    <tr>\n",
       "      <th>6</th>\n",
       "      <td>Conv2d</td>\n",
       "      <td>2359296</td>\n",
       "    </tr>\n",
       "    <tr>\n",
       "      <th>7</th>\n",
       "      <td>Conv2d</td>\n",
       "      <td>2359296</td>\n",
       "    </tr>\n",
       "    <tr>\n",
       "      <th>8</th>\n",
       "      <td>Linear</td>\n",
       "      <td>102760448</td>\n",
       "    </tr>\n",
       "    <tr>\n",
       "      <th>9</th>\n",
       "      <td>Linear</td>\n",
       "      <td>16777216</td>\n",
       "    </tr>\n",
       "    <tr>\n",
       "      <th>10</th>\n",
       "      <td>Linear</td>\n",
       "      <td>4096000</td>\n",
       "    </tr>\n",
       "  </tbody>\n",
       "</table>\n",
       "</div>"
      ],
      "text/plain": [
       "      name  parameter nums\n",
       "0   Conv2d            1728\n",
       "1   Conv2d           73728\n",
       "2   Conv2d          294912\n",
       "3   Conv2d          589824\n",
       "4   Conv2d         1179648\n",
       "5   Conv2d         2359296\n",
       "6   Conv2d         2359296\n",
       "7   Conv2d         2359296\n",
       "8   Linear       102760448\n",
       "9   Linear        16777216\n",
       "10  Linear         4096000"
      ]
     },
     "execution_count": 12,
     "metadata": {},
     "output_type": "execute_result"
    }
   ],
   "source": [
    "num_sum = 0\n",
    "rec = []\n",
    "for l in VGGNet:\n",
    "    if isinstance(l, nn.Sequential):\n",
    "        for l2 in l:\n",
    "            if isinstance(l2, nn.Conv2d):\n",
    "                num = l2.in_channels * l2.out_channels * l2.kernel_size[0] * l2.kernel_size[1]\n",
    "                num_sum += num\n",
    "                rec.append([l2.__class__.__name__, num])\n",
    "    if isinstance(l, nn.Linear):\n",
    "        num = l.in_features * l.out_features\n",
    "        num_sum += num\n",
    "        rec.append([l.__class__.__name__, num])\n",
    "        \n",
    "print(f'{num_sum} = {round(num_sum / 1000 / 1000, 1)}M')\n",
    "pd.DataFrame(rec, columns=['name', 'parameter nums'])"
   ]
  }
 ],
 "metadata": {
  "kernelspec": {
   "display_name": "Python 3 (ipykernel)",
   "language": "python",
   "name": "python3"
  },
  "language_info": {
   "codemirror_mode": {
    "name": "ipython",
    "version": 3
   },
   "file_extension": ".py",
   "mimetype": "text/x-python",
   "name": "python",
   "nbconvert_exporter": "python",
   "pygments_lexer": "ipython3",
   "version": "3.8.12"
  }
 },
 "nbformat": 4,
 "nbformat_minor": 5
}
