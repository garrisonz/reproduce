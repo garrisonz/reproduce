{
 "cells": [
  {
   "cell_type": "code",
   "execution_count": 1,
   "id": "c8d17b3c",
   "metadata": {
    "ExecuteTime": {
     "end_time": "2022-06-23T13:06:50.020581Z",
     "start_time": "2022-06-23T13:06:48.807458Z"
    }
   },
   "outputs": [],
   "source": [
    "import torch\n",
    "from torch import nn\n",
    "from d2l import torch as d2l\n",
    "import pandas as pd"
   ]
  },
  {
   "cell_type": "code",
   "execution_count": 2,
   "id": "00430f2e",
   "metadata": {
    "ExecuteTime": {
     "end_time": "2022-06-23T13:06:50.025934Z",
     "start_time": "2022-06-23T13:06:50.022640Z"
    }
   },
   "outputs": [],
   "source": [
    "def nin_block(in_channels, out_channels, kernel_size, strides, padding):\n",
    "    return nn.Sequential(\n",
    "        nn.Conv2d(in_channels, out_channels, kernel_size, strides, padding), nn.ReLU(),\n",
    "        nn.Conv2d(out_channels, out_channels, kernel_size=1), nn.ReLU(),\n",
    "        nn.Conv2d(out_channels, out_channels, kernel_size=1), nn.ReLU())"
   ]
  },
  {
   "cell_type": "code",
   "execution_count": 3,
   "id": "0347eefd",
   "metadata": {
    "ExecuteTime": {
     "end_time": "2022-06-23T13:06:50.046554Z",
     "start_time": "2022-06-23T13:06:50.029441Z"
    }
   },
   "outputs": [],
   "source": [
    "net = nn.Sequential(\n",
    "    nin_block(1, 96, kernel_size=11, strides=4, padding=0),\n",
    "    nn.MaxPool2d(3, stride=2),\n",
    "    \n",
    "    nin_block(96, 256, kernel_size=5, strides=1, padding=2),\n",
    "    nn.MaxPool2d(3, stride=2),\n",
    "    \n",
    "    nin_block(256, 384, kernel_size=3, strides=1, padding=1),\n",
    "    nn.MaxPool2d(3, stride=2),\n",
    "    nn.Dropout(0.5),\n",
    "    \n",
    "    nin_block(384, 10, kernel_size=3, strides=1, padding=1),\n",
    "    \n",
    "    nn.AdaptiveAvgPool2d((1, 1)),\n",
    "    nn.Flatten())"
   ]
  },
  {
   "cell_type": "code",
   "execution_count": 4,
   "id": "dbd53e49",
   "metadata": {
    "ExecuteTime": {
     "end_time": "2022-06-23T13:06:50.057798Z",
     "start_time": "2022-06-23T13:06:50.047728Z"
    }
   },
   "outputs": [
    {
     "name": "stdout",
     "output_type": "stream",
     "text": [
      "1989928 = 2.0M\n"
     ]
    },
    {
     "data": {
      "text/html": [
       "<div>\n",
       "<style scoped>\n",
       "    .dataframe tbody tr th:only-of-type {\n",
       "        vertical-align: middle;\n",
       "    }\n",
       "\n",
       "    .dataframe tbody tr th {\n",
       "        vertical-align: top;\n",
       "    }\n",
       "\n",
       "    .dataframe thead th {\n",
       "        text-align: right;\n",
       "    }\n",
       "</style>\n",
       "<table border=\"1\" class=\"dataframe\">\n",
       "  <thead>\n",
       "    <tr style=\"text-align: right;\">\n",
       "      <th></th>\n",
       "      <th>0</th>\n",
       "      <th>1</th>\n",
       "    </tr>\n",
       "  </thead>\n",
       "  <tbody>\n",
       "    <tr>\n",
       "      <th>0</th>\n",
       "      <td>Conv2d</td>\n",
       "      <td>11616</td>\n",
       "    </tr>\n",
       "    <tr>\n",
       "      <th>1</th>\n",
       "      <td>Conv2d</td>\n",
       "      <td>9216</td>\n",
       "    </tr>\n",
       "    <tr>\n",
       "      <th>2</th>\n",
       "      <td>Conv2d</td>\n",
       "      <td>9216</td>\n",
       "    </tr>\n",
       "    <tr>\n",
       "      <th>3</th>\n",
       "      <td>Conv2d</td>\n",
       "      <td>614400</td>\n",
       "    </tr>\n",
       "    <tr>\n",
       "      <th>4</th>\n",
       "      <td>Conv2d</td>\n",
       "      <td>65536</td>\n",
       "    </tr>\n",
       "    <tr>\n",
       "      <th>5</th>\n",
       "      <td>Conv2d</td>\n",
       "      <td>65536</td>\n",
       "    </tr>\n",
       "    <tr>\n",
       "      <th>6</th>\n",
       "      <td>Conv2d</td>\n",
       "      <td>884736</td>\n",
       "    </tr>\n",
       "    <tr>\n",
       "      <th>7</th>\n",
       "      <td>Conv2d</td>\n",
       "      <td>147456</td>\n",
       "    </tr>\n",
       "    <tr>\n",
       "      <th>8</th>\n",
       "      <td>Conv2d</td>\n",
       "      <td>147456</td>\n",
       "    </tr>\n",
       "    <tr>\n",
       "      <th>9</th>\n",
       "      <td>Conv2d</td>\n",
       "      <td>34560</td>\n",
       "    </tr>\n",
       "    <tr>\n",
       "      <th>10</th>\n",
       "      <td>Conv2d</td>\n",
       "      <td>100</td>\n",
       "    </tr>\n",
       "    <tr>\n",
       "      <th>11</th>\n",
       "      <td>Conv2d</td>\n",
       "      <td>100</td>\n",
       "    </tr>\n",
       "  </tbody>\n",
       "</table>\n",
       "</div>"
      ],
      "text/plain": [
       "         0       1\n",
       "0   Conv2d   11616\n",
       "1   Conv2d    9216\n",
       "2   Conv2d    9216\n",
       "3   Conv2d  614400\n",
       "4   Conv2d   65536\n",
       "5   Conv2d   65536\n",
       "6   Conv2d  884736\n",
       "7   Conv2d  147456\n",
       "8   Conv2d  147456\n",
       "9   Conv2d   34560\n",
       "10  Conv2d     100\n",
       "11  Conv2d     100"
      ]
     },
     "execution_count": 4,
     "metadata": {},
     "output_type": "execute_result"
    }
   ],
   "source": [
    "sum_num = 0\n",
    "rec = []\n",
    "for l in net:\n",
    "    if isinstance(l, nn.Sequential):\n",
    "        for l2 in l:\n",
    "            if isinstance(l2, nn.Conv2d):\n",
    "                num = l2.in_channels * l2.out_channels * l2.kernel_size[0] * l2.kernel_size[1]\n",
    "                sum_num += num\n",
    "                rec.append([l2.__class__.__name__, num])\n",
    "print(f'{sum_num} = {round(sum_num / 1000 / 1000, 1)}M')\n",
    "pd.DataFrame(rec)"
   ]
  },
  {
   "cell_type": "code",
   "execution_count": 5,
   "id": "eb1369af",
   "metadata": {
    "ExecuteTime": {
     "end_time": "2022-06-23T13:06:50.081140Z",
     "start_time": "2022-06-23T13:06:50.059054Z"
    }
   },
   "outputs": [
    {
     "name": "stdout",
     "output_type": "stream",
     "text": [
      "Sequential output shape:\t torch.Size([1, 96, 54, 54])\n",
      "MaxPool2d output shape:\t torch.Size([1, 96, 26, 26])\n",
      "Sequential output shape:\t torch.Size([1, 256, 26, 26])\n",
      "MaxPool2d output shape:\t torch.Size([1, 256, 12, 12])\n",
      "Sequential output shape:\t torch.Size([1, 384, 12, 12])\n",
      "MaxPool2d output shape:\t torch.Size([1, 384, 5, 5])\n",
      "Dropout output shape:\t torch.Size([1, 384, 5, 5])\n",
      "Sequential output shape:\t torch.Size([1, 10, 5, 5])\n",
      "AdaptiveAvgPool2d output shape:\t torch.Size([1, 10, 1, 1])\n",
      "Flatten output shape:\t torch.Size([1, 10])\n"
     ]
    }
   ],
   "source": [
    "X = torch.rand(size=(1, 1, 224, 224))\n",
    "for layer in net:\n",
    "    X = layer(X)\n",
    "    print(layer.__class__.__name__,'output shape:\\t', X.shape)"
   ]
  }
 ],
 "metadata": {
  "kernelspec": {
   "display_name": "Python 3 (ipykernel)",
   "language": "python",
   "name": "python3"
  },
  "language_info": {
   "codemirror_mode": {
    "name": "ipython",
    "version": 3
   },
   "file_extension": ".py",
   "mimetype": "text/x-python",
   "name": "python",
   "nbconvert_exporter": "python",
   "pygments_lexer": "ipython3",
   "version": "3.8.12"
  }
 },
 "nbformat": 4,
 "nbformat_minor": 5
}
